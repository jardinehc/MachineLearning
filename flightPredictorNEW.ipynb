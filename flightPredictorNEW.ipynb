{
  "cells": [
    {
      "metadata": {
        "trusted": true
      },
      "cell_type": "code",
      "source": "#https://www.kaggle.com/rahulstephenites2/airline-flight-delaytime-prediction\n#https://www.kaggle.com/usdot/flight-delays/kernels\n\n# This Python 3 environment comes with many helpful analytics libraries installed\n# It is defined by the kaggle/python docker image: https://github.com/kaggle/docker-python\n# For example, here's several helpful packages to load in \n\nimport numpy as np # linear algebra\nimport pandas as pd # data processing, CSV file I/O (e.g. pd.read_csv)\n",
      "execution_count": 1,
      "outputs": []
    },
    {
      "metadata": {
        "trusted": true
      },
      "cell_type": "code",
      "source": "import numpy as np   \n\n# Import Linear Regression machine learning library\nfrom sklearn.linear_model import LinearRegression\nfrom sklearn.linear_model import Ridge\nfrom sklearn.linear_model import Lasso\n\nfrom sklearn.metrics import r2_score\n\n# to handle data in form of rows and columns \nimport pandas as pd    \n\n# importing ploting libraries\nimport matplotlib.pyplot as plt   \n\nimport statsmodels.formula.api as sm\n\n#importing seaborn for statistical plots\nimport seaborn as sns\n\nimport datetime\nimport time\nfrom time import strftime, gmtime\n\nimport statsmodels.formula.api as smf\n#maschine learning libraries\nfrom sklearn.feature_selection import SelectFromModel\nfrom sklearn.ensemble import RandomForestClassifier\nfrom sklearn.ensemble import RandomForestRegressor\nfrom sklearn.model_selection import train_test_split\nfrom sklearn.metrics import confusion_matrix \n\nfrom sklearn.metrics import mean_absolute_error\nfrom sklearn.svm import SVC\nfrom random import sample",
      "execution_count": 2,
      "outputs": [
        {
          "output_type": "stream",
          "text": "/home/nbuser/anaconda3_501/lib/python3.6/site-packages/matplotlib/font_manager.py:229: UserWarning: Matplotlib is building the font cache using fc-list. This may take a moment.\n  'Matplotlib is building the font cache using fc-list. '\n",
          "name": "stderr"
        }
      ]
    },
    {
      "metadata": {
        "trusted": true
      },
      "cell_type": "code",
      "source": "df_flights=pd.read_csv('flightDataBINARY.csv')",
      "execution_count": 3,
      "outputs": []
    },
    {
      "metadata": {
        "trusted": true
      },
      "cell_type": "code",
      "source": "",
      "execution_count": null,
      "outputs": []
    },
    {
      "metadata": {
        "trusted": true
      },
      "cell_type": "code",
      "source": "df_flights = df_flights.fillna({'CARRIER_DELAY': 0})\ndf_flights = df_flights.fillna({'DEP_DELAY': 0})\ndf_flights = df_flights.fillna({'WEATHER_DELAY': 0})\ndf_flights = df_flights.fillna({'NAS_DELAY': 0})\ndf_flights = df_flights.fillna({'SECURITY_DELAY': 0})\ndf_flights = df_flights.fillna({'LATE_AIRCRAFT_DELAY': 0})\ndf_flights = df_flights.fillna({'CANCELLATION_CODE': 0})\ndf_flights = df_flights.fillna({'N6_DELAY': 0})",
      "execution_count": 4,
      "outputs": []
    },
    {
      "metadata": {
        "trusted": true
      },
      "cell_type": "code",
      "source": "df_flights.isnull().values.any()",
      "execution_count": 5,
      "outputs": [
        {
          "output_type": "execute_result",
          "execution_count": 5,
          "data": {
            "text/plain": "False"
          },
          "metadata": {}
        }
      ]
    },
    {
      "metadata": {
        "trusted": true
      },
      "cell_type": "code",
      "source": "#df_airlines = pd.read_csv('airlinesBINARY.csv')\n#abbr_companies = airlines_names.set_index('OP_UNIQUE_CARRIER')['AIRLINE'].to_dict()\n#df_airlines",
      "execution_count": 6,
      "outputs": []
    },
    {
      "metadata": {
        "trusted": true
      },
      "cell_type": "code",
      "source": "# Marking the delayed flights\ndf_flights['DELAYED'] = df_flights.loc[:,'DEP_DELAY'].values > 0\ndf_flights['AIRLINE'] = df_flights.loc[:,'OP_UNIQUE_CARRIER']",
      "execution_count": 7,
      "outputs": []
    },
    {
      "metadata": {
        "trusted": true
      },
      "cell_type": "code",
      "source": "airlines_names = pd.read_csv('airlinesBINARY.csv')\nabbr_companies = airlines_names.set_index('OP_UNIQUE_CARRIER')['AIRLINE'].to_dict()",
      "execution_count": 8,
      "outputs": []
    },
    {
      "metadata": {
        "trusted": true,
        "scrolled": true
      },
      "cell_type": "code",
      "source": "figsize=plt.subplots(figsize=(10,12))\nsns.countplot(x='DELAYED',hue=df_flights['OP_UNIQUE_CARRIER'].replace(abbr_companies),data=df_flights)\nplt.show()",
      "execution_count": 9,
      "outputs": [
        {
          "output_type": "display_data",
          "data": {
            "image/png": "[encoded data removed]",
            "text/plain": "<Figure size 720x864 with 1 Axes>"
          },
          "metadata": {
            "needs_background": "light"
          }
        }
      ]
    },
    {
      "metadata": {},
      "cell_type": "markdown",
      "source": "FEATURE SELECTION"
    },
    {
      "metadata": {
        "trusted": true
      },
      "cell_type": "code",
      "source": "# Label definition\ny = df_flights.DELAYED\n\n# Choosing the predictors\nfeature_list_s = [\n    'LATE_AIRCRAFT_DELAY'\n    ,'CARRIER_DELAY'\n    #,'NAS_DELAY'\n    ,'WEATHER_DELAY'\n    , 'SECURITY_DELAY']\n\n# New dataframe based on a small feature list\nX_small = df_flights[feature_list_s]",
      "execution_count": 10,
      "outputs": []
    },
    {
      "metadata": {
        "trusted": true
      },
      "cell_type": "code",
      "source": "# RandomForestClassifier with 10 trees and fitted on the small feature set \nclf = RandomForestClassifier(n_estimators = 10, random_state=32) \nclf.fit(X_small, y)",
      "execution_count": 11,
      "outputs": [
        {
          "output_type": "execute_result",
          "execution_count": 11,
          "data": {
            "text/plain": "RandomForestClassifier(bootstrap=True, class_weight=None, criterion='gini',\n            max_depth=None, max_features='auto', max_leaf_nodes=None,\n            min_impurity_decrease=0.0, min_impurity_split=None,\n            min_samples_leaf=1, min_samples_split=2,\n            min_weight_fraction_leaf=0.0, n_estimators=10, n_jobs=None,\n            oob_score=False, random_state=32, verbose=0, warm_start=False)"
          },
          "metadata": {}
        }
      ]
    },
    {
      "metadata": {
        "trusted": true
      },
      "cell_type": "code",
      "source": "importances=clf.feature_importances_\nimportances=pd.DataFrame([X_small.columns,importances]).transpose()\nimportances.columns=[['Variables','Importance']]\nimportances",
      "execution_count": 12,
      "outputs": [
        {
          "output_type": "execute_result",
          "execution_count": 12,
          "data": {
            "text/html": "<div>\n<style scoped>\n    .dataframe tbody tr th:only-of-type {\n        vertical-align: middle;\n    }\n\n    .dataframe tbody tr th {\n        vertical-align: top;\n    }\n\n    .dataframe thead tr th {\n        text-align: left;\n    }\n</style>\n<table border=\"1\" class=\"dataframe\">\n  <thead>\n    <tr>\n      <th></th>\n      <th>Variables</th>\n      <th>Importance</th>\n    </tr>\n  </thead>\n  <tbody>\n    <tr>\n      <th>0</th>\n      <td>LATE_AIRCRAFT_DELAY</td>\n      <td>0.628741</td>\n    </tr>\n    <tr>\n      <th>1</th>\n      <td>CARRIER_DELAY</td>\n      <td>0.330953</td>\n    </tr>\n    <tr>\n      <th>2</th>\n      <td>WEATHER_DELAY</td>\n      <td>0.0393046</td>\n    </tr>\n    <tr>\n      <th>3</th>\n      <td>SECURITY_DELAY</td>\n      <td>0.00100193</td>\n    </tr>\n  </tbody>\n</table>\n</div>",
            "text/plain": "             Variables  Importance\n0  LATE_AIRCRAFT_DELAY    0.628741\n1        CARRIER_DELAY    0.330953\n2        WEATHER_DELAY   0.0393046\n3       SECURITY_DELAY  0.00100193"
          },
          "metadata": {}
        }
      ]
    },
    {
      "metadata": {},
      "cell_type": "markdown",
      "source": "NAS delay has the greatest impact on a delated flight"
    },
    {
      "metadata": {
        "trusted": true
      },
      "cell_type": "code",
      "source": "# choosing the predictors\ntesting_feature_list = [\n    'DAY_OF_MONTH'\n    ,'AIRLINE'\n    ,'OP_CARRIER_FL_NUM'\n    #,'ORIGIN'\n    #,'NAS_DELAY'\n]",
      "execution_count": 13,
      "outputs": []
    },
    {
      "metadata": {
        "trusted": true
      },
      "cell_type": "code",
      "source": "# choosing the predictors\nfeature_list = [\n    'DAY_OF_MONTH'\n    ,'OP_UNIQUE_CARRIER'\n    ,'OP_CARRIER_FL_NUM'\n    #,'ORIGIN'\n    #,'NAS_DELAY'\n]\n# Any number can be used in place of '0'. \nimport random\nrandom.seed(0)\n    \ndf_flights_1=df_flights.sample(n=10000)\n",
      "execution_count": 14,
      "outputs": []
    },
    {
      "metadata": {
        "trusted": true
      },
      "cell_type": "code",
      "source": "#X.info()",
      "execution_count": 15,
      "outputs": []
    },
    {
      "metadata": {
        "trusted": true
      },
      "cell_type": "code",
      "source": "y = df_flights_1.DELAYED\nX = df_flights_1[feature_list]",
      "execution_count": 16,
      "outputs": []
    },
    {
      "metadata": {
        "trusted": true
      },
      "cell_type": "code",
      "source": "X_train,X_test,y_train,y_test=train_test_split(X,y,test_size=0.2,random_state=0)\nfrom sklearn.preprocessing import scale\nX_train=scale(X_train)\nX_test=scale(X_test)",
      "execution_count": 17,
      "outputs": [
        {
          "output_type": "stream",
          "text": "/home/nbuser/anaconda3_501/lib/python3.6/site-packages/ipykernel/__main__.py:3: DataConversionWarning: Data with input dtype int64 were all converted to float64 by the scale function.\n  app.launch_new_instance()\n/home/nbuser/anaconda3_501/lib/python3.6/site-packages/ipykernel/__main__.py:4: DataConversionWarning: Data with input dtype int64 were all converted to float64 by the scale function.\n",
          "name": "stderr"
        }
      ]
    },
    {
      "metadata": {
        "trusted": true
      },
      "cell_type": "code",
      "source": "model=LinearRegression()\nmodel=model.fit(X_train,y_train)\nslope=model.coef_\ncoef=model.intercept_\nprint(slope.flatten())\nprint(coef)",
      "execution_count": 18,
      "outputs": [
        {
          "output_type": "stream",
          "text": "[ 0.01765323 -0.01622585  0.01469807]\n0.381625\n",
          "name": "stdout"
        }
      ]
    },
    {
      "metadata": {
        "trusted": true
      },
      "cell_type": "code",
      "source": "y_pred=model.predict(X_train)",
      "execution_count": 19,
      "outputs": []
    },
    {
      "metadata": {
        "trusted": true
      },
      "cell_type": "code",
      "source": "r2_score(y_train,y_pred)",
      "execution_count": 20,
      "outputs": [
        {
          "output_type": "execute_result",
          "execution_count": 20,
          "data": {
            "text/plain": "0.0032240124091393874"
          },
          "metadata": {}
        }
      ]
    },
    {
      "metadata": {},
      "cell_type": "markdown",
      "source": "Stepwise Regression is where we select the features to be used in a model on the basis of variable importance.\n\nVariables are sequentially selected and a model is built starting with one variable. In the next model another variable is added and the adjusted R2 for both the models are compared. If the adjusted R2 increases the next variable is added. This process is repeated till there is a decrease in the adjusted R2 The above process is known as forward selection."
    },
    {
      "metadata": {
        "trusted": true
      },
      "cell_type": "code",
      "source": "from sklearn import ensemble,gaussian_process,linear_model,naive_bayes,neighbors,svm,tree",
      "execution_count": 21,
      "outputs": []
    },
    {
      "metadata": {
        "trusted": true
      },
      "cell_type": "code",
      "source": "MLA = [\n    #Ensemble Methods\n    ensemble.AdaBoostRegressor(),\n    ensemble.BaggingRegressor(),\n    ensemble.ExtraTreesRegressor(),\n    ensemble.GradientBoostingRegressor(),\n    ensemble.RandomForestRegressor(),\n    #Nearest Neighbor\n    neighbors.KNeighborsRegressor(),\n    #Trees    \n    tree.DecisionTreeRegressor(),\n    tree.ExtraTreeRegressor()\n    ]",
      "execution_count": 22,
      "outputs": []
    },
    {
      "metadata": {
        "trusted": true
      },
      "cell_type": "code",
      "source": "from sklearn.model_selection import cross_val_score\nfrom sklearn.metrics import roc_curve, roc_auc_score,precision_score,recall_score,auc",
      "execution_count": 23,
      "outputs": []
    },
    {
      "metadata": {
        "trusted": true
      },
      "cell_type": "code",
      "source": "MLA_columns = []\nMLA_compare = pd.DataFrame(columns = MLA_columns)\nresults=[]\n\nrow_index = 0\nfor alg in MLA:\n    \n    cv_results = cross_val_score(alg, X_train, y_train, cv=10)\n    results.append(cv_results)\n    predicted = alg.fit(X_train, y_train).predict(X_test)\n    fp, tp, th = roc_curve(y_test, predicted)\n    MLA_name = alg.__class__.__name__\n    MLA_compare.loc[row_index,'MLA Name'] = MLA_name\n    MLA_compare.loc[row_index, 'MLA Train Accuracy'] = round(alg.score(X_train, y_train), 4)\n    MLA_compare.loc[row_index, 'MLA Test Accuracy'] = round(alg.score(X_test, y_test), 4)\n    MLA_compare.loc[row_index, 'MLA AUC'] = auc(fp, tp)\n    \n    \n    row_index+=1\n    \nMLA_compare.sort_values(by = ['MLA Test Accuracy'], ascending = False, inplace = True)    \nMLA_compare",
      "execution_count": 24,
      "outputs": [
        {
          "output_type": "stream",
          "text": "/home/nbuser/anaconda3_501/lib/python3.6/site-packages/sklearn/ensemble/forest.py:246: FutureWarning: The default value of n_estimators will change from 10 in version 0.20 to 100 in 0.22.\n  \"10 in version 0.20 to 100 in 0.22.\", FutureWarning)\n/home/nbuser/anaconda3_501/lib/python3.6/site-packages/sklearn/ensemble/forest.py:246: FutureWarning: The default value of n_estimators will change from 10 in version 0.20 to 100 in 0.22.\n  \"10 in version 0.20 to 100 in 0.22.\", FutureWarning)\n/home/nbuser/anaconda3_501/lib/python3.6/site-packages/sklearn/ensemble/forest.py:246: FutureWarning: The default value of n_estimators will change from 10 in version 0.20 to 100 in 0.22.\n  \"10 in version 0.20 to 100 in 0.22.\", FutureWarning)\n/home/nbuser/anaconda3_501/lib/python3.6/site-packages/sklearn/ensemble/forest.py:246: FutureWarning: The default value of n_estimators will change from 10 in version 0.20 to 100 in 0.22.\n  \"10 in version 0.20 to 100 in 0.22.\", FutureWarning)\n/home/nbuser/anaconda3_501/lib/python3.6/site-packages/sklearn/ensemble/forest.py:246: FutureWarning: The default value of n_estimators will change from 10 in version 0.20 to 100 in 0.22.\n  \"10 in version 0.20 to 100 in 0.22.\", FutureWarning)\n/home/nbuser/anaconda3_501/lib/python3.6/site-packages/sklearn/ensemble/forest.py:246: FutureWarning: The default value of n_estimators will change from 10 in version 0.20 to 100 in 0.22.\n  \"10 in version 0.20 to 100 in 0.22.\", FutureWarning)\n/home/nbuser/anaconda3_501/lib/python3.6/site-packages/sklearn/ensemble/forest.py:246: FutureWarning: The default value of n_estimators will change from 10 in version 0.20 to 100 in 0.22.\n  \"10 in version 0.20 to 100 in 0.22.\", FutureWarning)\n/home/nbuser/anaconda3_501/lib/python3.6/site-packages/sklearn/ensemble/forest.py:246: FutureWarning: The default value of n_estimators will change from 10 in version 0.20 to 100 in 0.22.\n  \"10 in version 0.20 to 100 in 0.22.\", FutureWarning)\n/home/nbuser/anaconda3_501/lib/python3.6/site-packages/sklearn/ensemble/forest.py:246: FutureWarning: The default value of n_estimators will change from 10 in version 0.20 to 100 in 0.22.\n  \"10 in version 0.20 to 100 in 0.22.\", FutureWarning)\n/home/nbuser/anaconda3_501/lib/python3.6/site-packages/sklearn/ensemble/forest.py:246: FutureWarning: The default value of n_estimators will change from 10 in version 0.20 to 100 in 0.22.\n  \"10 in version 0.20 to 100 in 0.22.\", FutureWarning)\n/home/nbuser/anaconda3_501/lib/python3.6/site-packages/sklearn/ensemble/forest.py:246: FutureWarning: The default value of n_estimators will change from 10 in version 0.20 to 100 in 0.22.\n  \"10 in version 0.20 to 100 in 0.22.\", FutureWarning)\n/home/nbuser/anaconda3_501/lib/python3.6/site-packages/sklearn/ensemble/forest.py:246: FutureWarning: The default value of n_estimators will change from 10 in version 0.20 to 100 in 0.22.\n  \"10 in version 0.20 to 100 in 0.22.\", FutureWarning)\n/home/nbuser/anaconda3_501/lib/python3.6/site-packages/sklearn/ensemble/forest.py:246: FutureWarning: The default value of n_estimators will change from 10 in version 0.20 to 100 in 0.22.\n  \"10 in version 0.20 to 100 in 0.22.\", FutureWarning)\n/home/nbuser/anaconda3_501/lib/python3.6/site-packages/sklearn/ensemble/forest.py:246: FutureWarning: The default value of n_estimators will change from 10 in version 0.20 to 100 in 0.22.\n  \"10 in version 0.20 to 100 in 0.22.\", FutureWarning)\n/home/nbuser/anaconda3_501/lib/python3.6/site-packages/sklearn/ensemble/forest.py:246: FutureWarning: The default value of n_estimators will change from 10 in version 0.20 to 100 in 0.22.\n  \"10 in version 0.20 to 100 in 0.22.\", FutureWarning)\n/home/nbuser/anaconda3_501/lib/python3.6/site-packages/sklearn/ensemble/forest.py:246: FutureWarning: The default value of n_estimators will change from 10 in version 0.20 to 100 in 0.22.\n  \"10 in version 0.20 to 100 in 0.22.\", FutureWarning)\n/home/nbuser/anaconda3_501/lib/python3.6/site-packages/sklearn/ensemble/forest.py:246: FutureWarning: The default value of n_estimators will change from 10 in version 0.20 to 100 in 0.22.\n  \"10 in version 0.20 to 100 in 0.22.\", FutureWarning)\n/home/nbuser/anaconda3_501/lib/python3.6/site-packages/sklearn/ensemble/forest.py:246: FutureWarning: The default value of n_estimators will change from 10 in version 0.20 to 100 in 0.22.\n  \"10 in version 0.20 to 100 in 0.22.\", FutureWarning)\n/home/nbuser/anaconda3_501/lib/python3.6/site-packages/sklearn/ensemble/forest.py:246: FutureWarning: The default value of n_estimators will change from 10 in version 0.20 to 100 in 0.22.\n  \"10 in version 0.20 to 100 in 0.22.\", FutureWarning)\n/home/nbuser/anaconda3_501/lib/python3.6/site-packages/sklearn/ensemble/forest.py:246: FutureWarning: The default value of n_estimators will change from 10 in version 0.20 to 100 in 0.22.\n  \"10 in version 0.20 to 100 in 0.22.\", FutureWarning)\n/home/nbuser/anaconda3_501/lib/python3.6/site-packages/sklearn/ensemble/forest.py:246: FutureWarning: The default value of n_estimators will change from 10 in version 0.20 to 100 in 0.22.\n  \"10 in version 0.20 to 100 in 0.22.\", FutureWarning)\n/home/nbuser/anaconda3_501/lib/python3.6/site-packages/sklearn/ensemble/forest.py:246: FutureWarning: The default value of n_estimators will change from 10 in version 0.20 to 100 in 0.22.\n  \"10 in version 0.20 to 100 in 0.22.\", FutureWarning)\n",
          "name": "stderr"
        },
        {
          "output_type": "execute_result",
          "execution_count": 24,
          "data": {
            "text/html": "<div>\n<style scoped>\n    .dataframe tbody tr th:only-of-type {\n        vertical-align: middle;\n    }\n\n    .dataframe tbody tr th {\n        vertical-align: top;\n    }\n\n    .dataframe thead th {\n        text-align: right;\n    }\n</style>\n<table border=\"1\" class=\"dataframe\">\n  <thead>\n    <tr style=\"text-align: right;\">\n      <th></th>\n      <th>MLA Name</th>\n      <th>MLA Train Accuracy</th>\n      <th>MLA Test Accuracy</th>\n      <th>MLA AUC</th>\n    </tr>\n  </thead>\n  <tbody>\n    <tr>\n      <th>3</th>\n      <td>GradientBoostingRegressor</td>\n      <td>0.1100</td>\n      <td>0.0361</td>\n      <td>0.625101</td>\n    </tr>\n    <tr>\n      <th>0</th>\n      <td>AdaBoostRegressor</td>\n      <td>0.0309</td>\n      <td>0.0086</td>\n      <td>0.573064</td>\n    </tr>\n    <tr>\n      <th>5</th>\n      <td>KNeighborsRegressor</td>\n      <td>0.2858</td>\n      <td>-0.0981</td>\n      <td>0.588046</td>\n    </tr>\n    <tr>\n      <th>4</th>\n      <td>RandomForestRegressor</td>\n      <td>0.7970</td>\n      <td>-0.2597</td>\n      <td>0.576097</td>\n    </tr>\n    <tr>\n      <th>1</th>\n      <td>BaggingRegressor</td>\n      <td>0.7948</td>\n      <td>-0.2624</td>\n      <td>0.570383</td>\n    </tr>\n    <tr>\n      <th>2</th>\n      <td>ExtraTreesRegressor</td>\n      <td>0.9854</td>\n      <td>-0.3352</td>\n      <td>0.571662</td>\n    </tr>\n    <tr>\n      <th>6</th>\n      <td>DecisionTreeRegressor</td>\n      <td>0.9854</td>\n      <td>-0.7982</td>\n      <td>0.544703</td>\n    </tr>\n    <tr>\n      <th>7</th>\n      <td>ExtraTreeRegressor</td>\n      <td>0.9854</td>\n      <td>-0.8216</td>\n      <td>0.544036</td>\n    </tr>\n  </tbody>\n</table>\n</div>",
            "text/plain": "                    MLA Name  MLA Train Accuracy  MLA Test Accuracy   MLA AUC\n3  GradientBoostingRegressor              0.1100             0.0361  0.625101\n0          AdaBoostRegressor              0.0309             0.0086  0.573064\n5        KNeighborsRegressor              0.2858            -0.0981  0.588046\n4      RandomForestRegressor              0.7970            -0.2597  0.576097\n1           BaggingRegressor              0.7948            -0.2624  0.570383\n2        ExtraTreesRegressor              0.9854            -0.3352  0.571662\n6      DecisionTreeRegressor              0.9854            -0.7982  0.544703\n7         ExtraTreeRegressor              0.9854            -0.8216  0.544036"
          },
          "metadata": {}
        }
      ]
    },
    {
      "metadata": {
        "trusted": true
      },
      "cell_type": "code",
      "source": "plt.subplots(figsize=(15,6))\nsns.lineplot(x=\"MLA Name\", y=\"MLA Train Accuracy\",data=MLA_compare,palette='hot',label='Train Accuracy')\nsns.lineplot(x=\"MLA Name\", y=\"MLA Test Accuracy\",data=MLA_compare,palette='hot',label='Test Accuracy')\nplt.xticks(rotation=90)\nplt.title('MLA Accuracy Comparison')\nplt.legend()\nplt.show()",
      "execution_count": 25,
      "outputs": [
        {
          "output_type": "display_data",
          "data": {
            "image/png": "[encoded data removed]",
            "text/plain": "<Figure size 1080x432 with 1 Axes>"
          },
          "metadata": {
            "needs_background": "light"
          }
        }
      ]
    },
    {
      "metadata": {
        "trusted": true
      },
      "cell_type": "code",
      "source": "plt.subplots(figsize=(15,6))\nsns.lineplot(x=\"MLA Name\", y=\"MLA AUC\",data=MLA_compare,palette='hot',label='Accuracy')\n\nplt.xticks(rotation=90)\nplt.title('MLA Accuracy Comparison')\nplt.legend()\nplt.show()",
      "execution_count": 26,
      "outputs": [
        {
          "output_type": "display_data",
          "data": {
            "image/png": "[encoded data removed]",
            "text/plain": "<Figure size 1080x432 with 1 Axes>"
          },
          "metadata": {
            "needs_background": "light"
          }
        }
      ]
    },
    {
      "metadata": {
        "trusted": true
      },
      "cell_type": "code",
      "source": "#sns.boxplot(MLA_compare[\"MLA AUC\"])# boxplot algorithm comparison\nfig = plt.figure(figsize=(10,10))\nfig.suptitle('Algorithm Comparison')\nax = fig.add_subplot(111)\nplt.boxplot(results,labels=MLA_compare['MLA Name'])\nplt.xticks(rotation=45)\nplt.show()",
      "execution_count": 27,
      "outputs": [
        {
          "output_type": "display_data",
          "data": {
            "image/png": "[encoded data removed]",
            "text/plain": "<Figure size 720x720 with 1 Axes>"
          },
          "metadata": {
            "needs_background": "light"
          }
        }
      ]
    },
    {
      "metadata": {},
      "cell_type": "markdown",
      "source": "**Data Prediction**\nPreparing the Prediction\nBuilding the Model First\nI am building the model first. Here I am choosing 100 trees for the model to not overexert the computation time in later purpose."
    },
    {
      "metadata": {
        "trusted": true
      },
      "cell_type": "code",
      "source": "# RandomForest with 100 trees\nforest_model = RandomForestRegressor(n_estimators = 100, random_state=42)\n",
      "execution_count": 28,
      "outputs": []
    },
    {
      "metadata": {
        "trusted": true
      },
      "cell_type": "code",
      "source": "y = df_flights_1.DEP_DELAY\ny = np.array(y)",
      "execution_count": 29,
      "outputs": []
    },
    {
      "metadata": {
        "trusted": true
      },
      "cell_type": "code",
      "source": "X = np.array(X)",
      "execution_count": 30,
      "outputs": []
    },
    {
      "metadata": {
        "trusted": true
      },
      "cell_type": "code",
      "source": "\ntrain_X, val_X, train_y, val_y = train_test_split(X, y, test_size = 0.30, random_state = 42)",
      "execution_count": 31,
      "outputs": []
    },
    {
      "metadata": {
        "trusted": true
      },
      "cell_type": "code",
      "source": "#The Shape of Train- and Testdata\nprint('Training Features Shape:', train_X.shape)\nprint('Training Labels Shape:', train_y.shape)\nprint('Testing Features Shape:', val_X.shape)\nprint('Testing Labels Shape:', val_y.shape)",
      "execution_count": 32,
      "outputs": [
        {
          "output_type": "stream",
          "text": "Training Features Shape: (7000, 3)\nTraining Labels Shape: (7000,)\nTesting Features Shape: (3000, 3)\nTesting Labels Shape: (3000,)\n",
          "name": "stdout"
        }
      ]
    },
    {
      "metadata": {
        "trusted": true
      },
      "cell_type": "code",
      "source": "# Average arrival delay for our dataset\nbaseline_preds = df_flights['DEP_DELAY'].agg('sum') / df_flights['DEP_DELAY'].agg('count') \n\n# Baseline error by average arrival delay \nbaseline_errors = abs(baseline_preds - val_y)\nprint('Average baseline error: ', round(np.mean(baseline_errors),2))",
      "execution_count": 33,
      "outputs": [
        {
          "output_type": "stream",
          "text": "Average baseline error:  33.22\n",
          "name": "stdout"
        }
      ]
    },
    {
      "metadata": {},
      "cell_type": "markdown",
      "source": "This is our average baseline error of 30.73 minutes of delays we want to beat with our regression model."
    },
    {
      "metadata": {
        "trusted": true
      },
      "cell_type": "code",
      "source": "# Fit the model\nforest_model.fit(train_X, train_y)",
      "execution_count": 34,
      "outputs": [
        {
          "output_type": "execute_result",
          "execution_count": 34,
          "data": {
            "text/plain": "RandomForestRegressor(bootstrap=True, criterion='mse', max_depth=None,\n           max_features='auto', max_leaf_nodes=None,\n           min_impurity_decrease=0.0, min_impurity_split=None,\n           min_samples_leaf=1, min_samples_split=2,\n           min_weight_fraction_leaf=0.0, n_estimators=100, n_jobs=None,\n           oob_score=False, random_state=42, verbose=0, warm_start=False)"
          },
          "metadata": {}
        }
      ]
    },
    {
      "metadata": {
        "trusted": true
      },
      "cell_type": "code",
      "source": "# Predict the target based on testdata \nflightdelay_pred= forest_model.predict(val_X)\n\n#Calculate the absolute errors\nerrors_random1 = abs(flightdelay_pred - val_y)\n\nprint('Mean Absolute Error: ', round(np.mean(errors_random1),3), 'minutes.')",
      "execution_count": 35,
      "outputs": [
        {
          "output_type": "stream",
          "text": "Mean Absolute Error:  31.802 minutes.\n",
          "name": "stdout"
        }
      ]
    },
    {
      "metadata": {},
      "cell_type": "markdown",
      "source": "**Validate and Visualize the Model**\nIn this chapter, I will validate and visualize the prediction model. The previous mentioned mean absolute error of 0.857 minute seems to be a quite good prediction of the arrival delay. The predictions are on average around 0.857 minutes away from the real value. This is a really exact prediction. It is mandatory to check the model whether it is an overfitted one or not.\n\nThe previously shown feature importance of the model looks like this:"
    },
    {
      "metadata": {
        "trusted": true
      },
      "cell_type": "code",
      "source": "X=pd.DataFrame(X)\n\nimportances=forest_model.feature_importances_\nimportances=pd.DataFrame([X.columns,importances]).transpose()\nimportances.columns=[['Variables','Importance']]\nimportances",
      "execution_count": 36,
      "outputs": [
        {
          "output_type": "execute_result",
          "execution_count": 36,
          "data": {
            "text/html": "<div>\n<style scoped>\n    .dataframe tbody tr th:only-of-type {\n        vertical-align: middle;\n    }\n\n    .dataframe tbody tr th {\n        vertical-align: top;\n    }\n\n    .dataframe thead tr th {\n        text-align: left;\n    }\n</style>\n<table border=\"1\" class=\"dataframe\">\n  <thead>\n    <tr>\n      <th></th>\n      <th>Variables</th>\n      <th>Importance</th>\n    </tr>\n  </thead>\n  <tbody>\n    <tr>\n      <th>0</th>\n      <td>0.0</td>\n      <td>0.212040</td>\n    </tr>\n    <tr>\n      <th>1</th>\n      <td>1.0</td>\n      <td>0.054052</td>\n    </tr>\n    <tr>\n      <th>2</th>\n      <td>2.0</td>\n      <td>0.733908</td>\n    </tr>\n  </tbody>\n</table>\n</div>",
            "text/plain": "  Variables Importance\n0       0.0   0.212040\n1       1.0   0.054052\n2       2.0   0.733908"
          },
          "metadata": {}
        }
      ]
    },
    {
      "metadata": {
        "trusted": true
      },
      "cell_type": "code",
      "source": "# Count of DEPARTURE_DELAYs that are not zero and could influence our prediction.\nprint(\"DEPARTURE_DELAY count: \")\nprint(df_flights_1[df_flights_1['DEP_DELAY'] != 0]['DEP_DELAY'].count())\nprint(\"-------------------------------\")\nprint(\"All datarow count:\")\nprint((df_flights_1)['DEP_DELAY'].count())\nprint(\"-------------------------------\")\nprint(\"-------------------------------\")\nprint(\"Percentage of DEPARTURE_DELAY that is not zero:\")\nprint(df_flights_1[df_flights_1['DEP_DELAY'] != 0]['DEP_DELAY'].count() / df_flights_1['DEP_DELAY'].count())",
      "execution_count": 37,
      "outputs": [
        {
          "output_type": "stream",
          "text": "DEPARTURE_DELAY count: \n9435\n-------------------------------\nAll datarow count:\n10000\n-------------------------------\n-------------------------------\nPercentage of DEPARTURE_DELAY that is not zero:\n0.9435\n",
          "name": "stdout"
        }
      ]
    },
    {
      "metadata": {},
      "cell_type": "markdown",
      "source": "**The Coefficient of Determination - The Model Fitness**\nIn this chapter, I will calculate the coefficient of determination or \"R-squared\" for the model. It will show how good the inputs fit the output of the model, or how good the model represents the underlying data. That means if the regressions of our features have an R-squared close to 1, it means that the independent variables (the features) are well-suited to predict the dependent variable (our target, the ARRIVAL_DELAY).\n\nI will now calculate the R-squared for the built model based on the training and test dataset:"
    },
    {
      "metadata": {
        "trusted": true
      },
      "cell_type": "code",
      "source": "print(\"----------------- TRAINING ------------------------\")\nprint(\"r-squared score: \",forest_model.score(train_X, train_y))\nprint(\"------------------- TEST --------------------------\")\nprint(\"r-squared score: \", forest_model.score(val_X, val_y))",
      "execution_count": 38,
      "outputs": [
        {
          "output_type": "stream",
          "text": "----------------- TRAINING ------------------------\nr-squared score:  0.8304987923358857\n------------------- TEST --------------------------\nr-squared score:  -0.03794454474380626\n",
          "name": "stdout"
        }
      ]
    },
    {
      "metadata": {},
      "cell_type": "markdown",
      "source": "This here seems to be as well pretty accurate. The training dataset is a known dataset by the model why the test dataset is used as well here. As we know due to the previous analysis, the model is highly based on the DEPARTURE_DELAY feature. All the model's decision is based on what the DEPARTURE_DELAY does, which afterward leads to that accuracy.\n\nI will test the model with another new dataset and calculate the necessary key figures."
    },
    {
      "metadata": {
        "trusted": true
      },
      "cell_type": "code",
      "source": "#NEW DATA",
      "execution_count": 39,
      "outputs": []
    },
    {
      "metadata": {
        "trusted": true
      },
      "cell_type": "code",
      "source": "random.seed(1)\ndf_flights__2=df_flights.sample(n=500)\nX2 = df_flights__2[feature_list]\ny2 = df_flights__2.DEP_DELAY",
      "execution_count": 40,
      "outputs": []
    },
    {
      "metadata": {
        "trusted": true
      },
      "cell_type": "code",
      "source": "# Predict the new data based on the old model (forest_model)\nflightdelay_pred_ = forest_model.predict(X2)\n\n#Calculate the absolute errors\nerrors_random_2 = abs(flightdelay_pred_ - y2)",
      "execution_count": 41,
      "outputs": []
    },
    {
      "metadata": {
        "trusted": true
      },
      "cell_type": "code",
      "source": "# Mean Absolute Error im comparison\nprint('Mean Absolute Error Random Sample 1: ', round(np.mean(errors_random1),3), 'minutes.')\nprint('---------------------------------------------------------------')\nprint('Mean Absolute Error Random Sample 1: ', round(np.mean(errors_random_2),3), 'minutes.')",
      "execution_count": 42,
      "outputs": [
        {
          "output_type": "stream",
          "text": "Mean Absolute Error Random Sample 1:  31.802 minutes.\n---------------------------------------------------------------\nMean Absolute Error Random Sample 1:  28.268 minutes.\n",
          "name": "stdout"
        }
      ]
    },
    {
      "metadata": {
        "trusted": true
      },
      "cell_type": "code",
      "source": "print(\"r-squared score Random Sample 1: \",forest_model.score(val_X, val_y))\nprint(\"------------------- TEST --------------------------\")\nprint(\"r-squared score Random Sample 2: \", forest_model.score(X2, y2))",
      "execution_count": 43,
      "outputs": [
        {
          "output_type": "stream",
          "text": "r-squared score Random Sample 1:  -0.03794454474380626\n------------------- TEST --------------------------\nr-squared score Random Sample 2:  0.039761705866746544\n",
          "name": "stdout"
        }
      ]
    },
    {
      "metadata": {
        "trusted": true
      },
      "cell_type": "code",
      "source": "a=df_flights__2",
      "execution_count": 44,
      "outputs": []
    },
    {
      "metadata": {
        "trusted": true
      },
      "cell_type": "code",
      "source": "# Look into the flight \na.iloc[50]",
      "execution_count": 45,
      "outputs": [
        {
          "output_type": "execute_result",
          "execution_count": 45,
          "data": {
            "text/plain": "DAY_OF_MONTH             21\nOP_UNIQUE_CARRIER         7\nOP_CARRIER_FL_NUM      2442\nORIGIN                  EWR\nDEST                    ATL\nDEP_DELAY               183\nCANCELLED                 0\nCARRIER_DELAY             0\nWEATHER_DELAY            10\nN6_DELAY                  0\nSECURITY_DELAY            0\nLATE_AIRCRAFT_DELAY     154\nDELAYED                True\nAIRLINE                   7\nName: 14301, dtype: object"
          },
          "metadata": {}
        }
      ]
    },
    {
      "metadata": {
        "trusted": true
      },
      "cell_type": "code",
      "source": "# Retrieving the flight with index 3221210 (delayed flight without departure delay).\nX3 = a.loc[:,feature_list]\nX3 = X3.iloc[50]\n# Setting the target for our flight index 3221210\ny3 =a.iloc[50]['DEP_DELAY']\nprint(y3)\nX3",
      "execution_count": 46,
      "outputs": [
        {
          "output_type": "stream",
          "text": "183.0\n",
          "name": "stdout"
        },
        {
          "output_type": "execute_result",
          "execution_count": 46,
          "data": {
            "text/plain": "DAY_OF_MONTH           21\nOP_UNIQUE_CARRIER       7\nOP_CARRIER_FL_NUM    2442\nName: 14301, dtype: int64"
          },
          "metadata": {}
        }
      ]
    },
    {
      "metadata": {
        "trusted": true
      },
      "cell_type": "code",
      "source": "# Printing the important stuff\nflight_pred_s = forest_model.predict([X3])\nprint(\"Predicted Delay of the Flight (Minutes): \", flight_pred_s)\nprint(\"-------------------------------------------------\")\nprint(\"Original Delay of the Flight (Minutes):  \", y3)\nprint(\"_________________________________________________\")\nprint(\"_________________________________________________\")\nprint(\"Difference (Minutes)                   : \",  y3-flight_pred_s)",
      "execution_count": 47,
      "outputs": [
        {
          "output_type": "stream",
          "text": "Predicted Delay of the Flight (Minutes):  [135.56]\n-------------------------------------------------\nOriginal Delay of the Flight (Minutes):   183.0\n_________________________________________________\n_________________________________________________\nDifference (Minutes)                   :  [47.44]\n",
          "name": "stdout"
        }
      ]
    },
    {
      "metadata": {
        "trusted": true
      },
      "cell_type": "code",
      "source": "#Testing something else\n\n#y = df_flights.DELAYED\n#X = df_flights_1[feature_list]\n\n#X_train,X_test,y_train,y_test=train_test_split(X,y,test_size=0.2,random_state=0)\n#from sklearn.preprocessing import scale\n#X_train=scale(X_train)\n#X_test=scale(X_test)",
      "execution_count": 48,
      "outputs": []
    },
    {
      "metadata": {
        "trusted": true
      },
      "cell_type": "code",
      "source": "#Following on from above - trying to get a graph\n\n#X_grid = np.arange(min(X), max(X), 0.01)\n#X_grid = X_grid.reshape((len(X_grid), 1))\n\n#plt.scatter(X, y, color = 'red')\n#plt.plot(X_grid, regressor.predict(X_grid), color = 'blue')\n\n#plt.show()",
      "execution_count": 49,
      "outputs": []
    },
    {
      "metadata": {},
      "cell_type": "markdown",
      "source": "# Visualising the Random Forest Regression results \n  \n# arange for creating a range of values \n# from min value of x to max  \n# value of x with a difference of 0.01  \n# between two consecutive values \n#X_grid = np.arange(min(train_X), max(train_X), 0.01)  \n  \n# reshape for reshaping the data into a len(X_grid)*1 array,  \n# i.e. to make a column out of the X_grid value                   \nX_grid = X_grid.reshape((len(X_grid), 1)) \n  \n# Scatter plot for original data \nplt.scatter(train_X, train_y, color = 'blue')   \n  \n# plot predicted data \nplt.plot(X_grid, regressor.predict(X_grid),  \n         color = 'green')  \nplt.title('Random Forest Regression') \nplt.xlabel('Position level') \nplt.ylabel('Salary') \nplt.show()\n"
    },
    {
      "metadata": {
        "trusted": true
      },
      "cell_type": "code",
      "source": "#ATTEMPT AT KN",
      "execution_count": 50,
      "outputs": []
    },
    {
      "metadata": {
        "trusted": true
      },
      "cell_type": "code",
      "source": "from sklearn.neighbors import KNeighborsRegressor",
      "execution_count": 51,
      "outputs": []
    },
    {
      "metadata": {
        "trusted": true
      },
      "cell_type": "code",
      "source": "# RandomForest with 100 trees\nneighbours_model = KNeighborsRegressor(n_neighbors = 7)",
      "execution_count": 52,
      "outputs": []
    },
    {
      "metadata": {
        "trusted": true
      },
      "cell_type": "code",
      "source": "# Fit the model\n\nneighbours_model.fit(train_X, train_y)",
      "execution_count": 53,
      "outputs": [
        {
          "output_type": "execute_result",
          "execution_count": 53,
          "data": {
            "text/plain": "KNeighborsRegressor(algorithm='auto', leaf_size=30, metric='minkowski',\n          metric_params=None, n_jobs=None, n_neighbors=7, p=2,\n          weights='uniform')"
          },
          "metadata": {}
        }
      ]
    },
    {
      "metadata": {
        "trusted": true
      },
      "cell_type": "code",
      "source": "# Predict the target based on testdata \nflightdelay_pred2= neighbours_model.predict(val_X)",
      "execution_count": 54,
      "outputs": []
    },
    {
      "metadata": {
        "trusted": true
      },
      "cell_type": "code",
      "source": "#Calculate the absolute errors\nerrors_random2 = abs(flightdelay_pred2 - val_y)",
      "execution_count": 55,
      "outputs": []
    },
    {
      "metadata": {
        "trusted": true
      },
      "cell_type": "code",
      "source": "print('Mean Absolute Error: ', round(np.mean(errors_random2),3), 'minutes.')",
      "execution_count": 56,
      "outputs": [
        {
          "output_type": "stream",
          "text": "Mean Absolute Error:  31.883 minutes.\n",
          "name": "stdout"
        }
      ]
    },
    {
      "metadata": {
        "trusted": true
      },
      "cell_type": "code",
      "source": "X=pd.DataFrame(X)",
      "execution_count": 57,
      "outputs": []
    },
    {
      "metadata": {
        "trusted": true
      },
      "cell_type": "code",
      "source": "",
      "execution_count": null,
      "outputs": []
    },
    {
      "metadata": {
        "trusted": true,
        "scrolled": true
      },
      "cell_type": "code",
      "source": "print(\"----------------- TRAINING ------------------------\")\nprint(\"r-squared score: \",neighbours_model.score(train_X, train_y))\nprint(\"------------------- TEST --------------------------\")\nprint(\"r-squared score: \", neighbours_model.score(val_X, val_y))",
      "execution_count": 58,
      "outputs": [
        {
          "output_type": "stream",
          "text": "----------------- TRAINING ------------------------\nr-squared score:  0.20876484971478448\n------------------- TEST --------------------------\nr-squared score:  -0.011687740941832335\n",
          "name": "stdout"
        }
      ]
    },
    {
      "metadata": {
        "trusted": true
      },
      "cell_type": "code",
      "source": "#NEW DATA\n\nrandom.seed(1)\ndf_flights__3=df_flights.sample(n=500) \nX4 = df_flights__3[feature_list]\ny4 = df_flights__3.DEP_DELAY\n\n# Predict the new data based on the old model (forest_model)\nflightdelay_pred_2 = neighbours_model.predict(X4)\n\n#Calculate the absolute errors\nerrors_random_3 = abs(flightdelay_pred_2 - y4)\n\n# Mean Absolute Error im comparison\nprint('Mean Absolute Error Random Sample 1: ', round(np.mean(errors_random1),3), 'minutes.')\nprint('---------------------------------------------------------------')\nprint('Mean Absolute Error Random Sample 1: ', round(np.mean(errors_random_2),3), 'minutes.')\nX=pd.DataFrame(X)\nprint(\"r-squared score Random Sample 1: \",neighbours_model.score(val_X, val_y))\nprint(\"------------------- TEST --------------------------\")\nprint(\"r-squared score Random Sample 2: \", neighbours_model.score(X4, y4))",
      "execution_count": 59,
      "outputs": [
        {
          "output_type": "stream",
          "text": "Mean Absolute Error Random Sample 1:  31.802 minutes.\n---------------------------------------------------------------\nMean Absolute Error Random Sample 1:  28.268 minutes.\nr-squared score Random Sample 1:  -0.011687740941832335\n------------------- TEST --------------------------\nr-squared score Random Sample 2:  0.10481114001912739\n",
          "name": "stdout"
        }
      ]
    },
    {
      "metadata": {
        "trusted": true
      },
      "cell_type": "code",
      "source": "a=df_flights__3\na.iloc[388]",
      "execution_count": 60,
      "outputs": [
        {
          "output_type": "execute_result",
          "execution_count": 60,
          "data": {
            "text/plain": "DAY_OF_MONTH             25\nOP_UNIQUE_CARRIER        13\nOP_CARRIER_FL_NUM      3418\nORIGIN                  EWR\nDEST                    DTW\nDEP_DELAY                29\nCANCELLED                 0\nCARRIER_DELAY             0\nWEATHER_DELAY             0\nN6_DELAY                  0\nSECURITY_DELAY            0\nLATE_AIRCRAFT_DELAY       0\nDELAYED                True\nAIRLINE                  13\nName: 17391, dtype: object"
          },
          "metadata": {}
        }
      ]
    },
    {
      "metadata": {
        "trusted": true
      },
      "cell_type": "code",
      "source": "\nX5 = a.loc[:,feature_list]\nX5 = X5.iloc[50]\n# Setting the target for our flight index 3221210\ny5 =a.iloc[50]['DEP_DELAY']\nprint(y5)\nX5\n\n# Printing the important stuff\nflight_pred_s = neighbours_model.predict([X5])\nprint(\"Predicted Delay of the Flight (Minutes): \", flight_pred_s)\nprint(\"-------------------------------------------------\")\nprint(\"Original Delay of the Flight (Minutes):  \", y5)\nprint(\"_________________________________________________\")\nprint(\"_________________________________________________\")\nprint(\"Difference (Minutes)                   : \",  y5-flight_pred_s)",
      "execution_count": 61,
      "outputs": [
        {
          "output_type": "stream",
          "text": "258.0\nPredicted Delay of the Flight (Minutes):  [27.14285714]\n-------------------------------------------------\nOriginal Delay of the Flight (Minutes):   258.0\n_________________________________________________\n_________________________________________________\nDifference (Minutes)                   :  [230.85714286]\n",
          "name": "stdout"
        }
      ]
    },
    {
      "metadata": {
        "trusted": true
      },
      "cell_type": "code",
      "source": "from sklearn.neighbors import KNeighborsClassifier\nfrom sklearn.metrics import accuracy_score",
      "execution_count": 62,
      "outputs": []
    },
    {
      "metadata": {
        "trusted": true
      },
      "cell_type": "code",
      "source": "neighbors = list(range(1, 50, 2))\n\n# empty list that will hold cv scores\ncv_scores = []\n\n# perform 10-fold cross validation\nfor k in neighbors:\n    knn = KNeighborsClassifier(n_neighbors=k)\n    scores = cross_val_score(knn, X_train, y_train, cv=10, scoring='accuracy')\n    cv_scores.append(scores.mean())",
      "execution_count": 63,
      "outputs": []
    },
    {
      "metadata": {
        "trusted": true
      },
      "cell_type": "code",
      "source": "mse = [1 - x for x in cv_scores]\n\n# determining best k\noptimal_k = neighbors[mse.index(min(mse))]\nprint(\"The optimal number of neighbors is {}\".format(optimal_k))\n\n# plot misclassification error vs k\nplt.plot(neighbors, mse)\nplt.xlabel(\"Number of Neighbors K\")\nplt.ylabel(\"Misclassification Error\")\nplt.show()",
      "execution_count": 64,
      "outputs": [
        {
          "output_type": "stream",
          "text": "The optimal number of neighbors is 49\n",
          "name": "stdout"
        },
        {
          "output_type": "display_data",
          "data": {
            "image/png": "[encoded data removed]",
            "text/plain": "<Figure size 432x288 with 1 Axes>"
          },
          "metadata": {
            "needs_background": "light"
          }
        }
      ]
    },
    {
      "metadata": {
        "trusted": true
      },
      "cell_type": "code",
      "source": "#ATTEMPT AT DECSION TREE REGRESSOR\n\nfrom sklearn.tree import DecisionTreeRegressor",
      "execution_count": 65,
      "outputs": []
    },
    {
      "metadata": {
        "trusted": true
      },
      "cell_type": "code",
      "source": "# RandomForest with 100 trees\ntree_model = DecisionTreeRegressor(random_state = 0)",
      "execution_count": 66,
      "outputs": []
    },
    {
      "metadata": {
        "trusted": true
      },
      "cell_type": "code",
      "source": "# Fit the model\ntree_model.fit(train_X, train_y)",
      "execution_count": 67,
      "outputs": [
        {
          "output_type": "execute_result",
          "execution_count": 67,
          "data": {
            "text/plain": "DecisionTreeRegressor(criterion='mse', max_depth=None, max_features=None,\n           max_leaf_nodes=None, min_impurity_decrease=0.0,\n           min_impurity_split=None, min_samples_leaf=1,\n           min_samples_split=2, min_weight_fraction_leaf=0.0,\n           presort=False, random_state=0, splitter='best')"
          },
          "metadata": {}
        }
      ]
    },
    {
      "metadata": {
        "trusted": true
      },
      "cell_type": "code",
      "source": "# Predict the target based on testdata \nflightdelay_pred3= tree_model.predict(val_X)",
      "execution_count": 68,
      "outputs": []
    },
    {
      "metadata": {
        "trusted": true
      },
      "cell_type": "code",
      "source": "#Calculate the absolute errors\nerrors_random3 = abs(flightdelay_pred3 - val_y)",
      "execution_count": 69,
      "outputs": []
    },
    {
      "metadata": {
        "trusted": true
      },
      "cell_type": "code",
      "source": "print('Mean Absolute Error: ', round(np.mean(errors_random2),3), 'minutes.')",
      "execution_count": 70,
      "outputs": [
        {
          "output_type": "stream",
          "text": "Mean Absolute Error:  31.883 minutes.\n",
          "name": "stdout"
        }
      ]
    },
    {
      "metadata": {
        "trusted": true
      },
      "cell_type": "code",
      "source": "X=pd.DataFrame(X)",
      "execution_count": 71,
      "outputs": []
    },
    {
      "metadata": {
        "trusted": true,
        "scrolled": true
      },
      "cell_type": "code",
      "source": "print(\"----------------- TRAINING ------------------------\")\nprint(\"r-squared score: \",tree_model.score(train_X, train_y))\nprint(\"------------------- TEST --------------------------\")\nprint(\"r-squared score: \", tree_model.score(val_X, val_y))",
      "execution_count": 72,
      "outputs": [
        {
          "output_type": "stream",
          "text": "----------------- TRAINING ------------------------\nr-squared score:  0.9951806615151617\n------------------- TEST --------------------------\nr-squared score:  -0.5093187466338476\n",
          "name": "stdout"
        }
      ]
    },
    {
      "metadata": {
        "trusted": true
      },
      "cell_type": "code",
      "source": "#NEW DATA\n\nrandom.seed(1)\ndf_flights__4=df_flights.sample(n=10000) #WAS 500!!!\nX6 = df_flights__4[feature_list]\ny6 = df_flights__4.DEP_DELAY\n\n# Predict the new data based on the old model\nflightdelay_pred_3 = tree_model.predict(X6)\n\n#Calculate the absolute errors\nerrors_random_3 = abs(flightdelay_pred_3 - y6)\n\n# Mean Absolute Error im comparison\nprint('Mean Absolute Error Random Sample 1: ', round(np.mean(errors_random1),3), 'minutes.')\nprint('---------------------------------------------------------------')\nprint('Mean Absolute Error Random Sample 1: ', round(np.mean(errors_random_2),3), 'minutes.')\nX=pd.DataFrame(X)\nprint(\"r-squared score Random Sample 1: \",tree_model.score(val_X, val_y))\nprint(\"------------------- TEST --------------------------\")\nprint(\"r-squared score Random Sample 2: \", tree_model.score(X6, y6))",
      "execution_count": 73,
      "outputs": [
        {
          "output_type": "stream",
          "text": "Mean Absolute Error Random Sample 1:  31.802 minutes.\n---------------------------------------------------------------\nMean Absolute Error Random Sample 1:  28.268 minutes.\nr-squared score Random Sample 1:  -0.5093187466338476\n------------------- TEST --------------------------\nr-squared score Random Sample 2:  -0.39818054597033115\n",
          "name": "stdout"
        }
      ]
    },
    {
      "metadata": {
        "trusted": true
      },
      "cell_type": "code",
      "source": "a=df_flights__4\na.iloc[90]",
      "execution_count": 74,
      "outputs": [
        {
          "output_type": "execute_result",
          "execution_count": 74,
          "data": {
            "text/plain": "DAY_OF_MONTH              25\nOP_UNIQUE_CARRIER         10\nOP_CARRIER_FL_NUM       1146\nORIGIN                   EWR\nDEST                     ATL\nDEP_DELAY                -15\nCANCELLED                  0\nCARRIER_DELAY              0\nWEATHER_DELAY              0\nN6_DELAY                   0\nSECURITY_DELAY             0\nLATE_AIRCRAFT_DELAY        0\nDELAYED                False\nAIRLINE                   10\nName: 17591, dtype: object"
          },
          "metadata": {}
        }
      ]
    },
    {
      "metadata": {
        "trusted": true
      },
      "cell_type": "code",
      "source": "\nX7 = a.loc[:,feature_list]\nX7 = X7.iloc[900]\ny7 =a.iloc[900]['DEP_DELAY']\n\n\n# Printing the important info\nflight_pred_s = tree_model.predict([X7])\nprint(\"Predicted Delay of the Flight (Minutes): \", flight_pred_s)\nprint(\"-------------------------------------------------\")\nprint(\"Original Delay of the Flight (Minutes):  \", y7)\nprint(\"_________________________________________________\")\nprint(\"_________________________________________________\")\nprint(\"Difference (Minutes)                   : \",  y7-flight_pred_s)",
      "execution_count": 75,
      "outputs": [
        {
          "output_type": "stream",
          "text": "Predicted Delay of the Flight (Minutes):  [-3.]\n-------------------------------------------------\nOriginal Delay of the Flight (Minutes):   -3.0\n_________________________________________________\n_________________________________________________\nDifference (Minutes)                   :  [0.]\n",
          "name": "stdout"
        }
      ]
    },
    {
      "metadata": {
        "trusted": true
      },
      "cell_type": "code",
      "source": "count = 0\nfor x in range(10000):\n    a.iloc[x]\n    X = a.loc[:,feature_list]\n    X = X.iloc[x]\n    y =a.iloc[x]['DEP_DELAY']\n    flight_pred_s = tree_model.predict([X])\n    count += y-flight_pred_s\n",
      "execution_count": 76,
      "outputs": []
    },
    {
      "metadata": {
        "trusted": true
      },
      "cell_type": "code",
      "source": "print(count / 10000)",
      "execution_count": 77,
      "outputs": [
        {
          "output_type": "stream",
          "text": "[-1.09825]\n",
          "name": "stdout"
        }
      ]
    },
    {
      "metadata": {
        "trusted": true
      },
      "cell_type": "code",
      "source": "a.count()",
      "execution_count": 78,
      "outputs": [
        {
          "output_type": "execute_result",
          "execution_count": 78,
          "data": {
            "text/plain": "DAY_OF_MONTH           10000\nOP_UNIQUE_CARRIER      10000\nOP_CARRIER_FL_NUM      10000\nORIGIN                 10000\nDEST                   10000\nDEP_DELAY              10000\nCANCELLED              10000\nCARRIER_DELAY          10000\nWEATHER_DELAY          10000\nN6_DELAY               10000\nSECURITY_DELAY         10000\nLATE_AIRCRAFT_DELAY    10000\nDELAYED                10000\nAIRLINE                10000\ndtype: int64"
          },
          "metadata": {}
        }
      ]
    },
    {
      "metadata": {
        "trusted": true
      },
      "cell_type": "code",
      "source": "%matplotlib inline\nimport matplotlib.pyplot as plt\nplt.style.use('seaborn-whitegrid')\nimport numpy as np",
      "execution_count": 79,
      "outputs": []
    },
    {
      "metadata": {
        "trusted": true
      },
      "cell_type": "code",
      "source": "",
      "execution_count": null,
      "outputs": []
    },
    {
      "metadata": {
        "trusted": true
      },
      "cell_type": "code",
      "source": "#be able to put in values and predict the delay based on them\n\n\nX4 = a.loc[:,feature_list]\nX4= X4.iloc[1]   \n#X4 = [9, 13, 3420]\n# Setting the target for our flight index 3221210\ny4 = a.iloc[1]['DEP_DELAY']\n#y4 = 8\n#print(y4)\nX4\n\n# Printing the important stuff\nflight_pred_s = tree_model.predict([X4])\nprint(\"Predicted Delay of the Flight (Minutes): \", flight_pred_s)\nprint(\"-------------------------------------------------\")\nprint(\"Original Delay of the Flight (Minutes):  \", y4)\nprint(\"_________________________________________________\")\nprint(\"_________________________________________________\")\nprint(\"Difference (Minutes)                   : \",  y4-flight_pred_s)",
      "execution_count": 80,
      "outputs": [
        {
          "output_type": "stream",
          "text": "Predicted Delay of the Flight (Minutes):  [-10.]\n-------------------------------------------------\nOriginal Delay of the Flight (Minutes):   -10.0\n_________________________________________________\n_________________________________________________\nDifference (Minutes)                   :  [0.]\n",
          "name": "stdout"
        }
      ]
    },
    {
      "metadata": {
        "trusted": true
      },
      "cell_type": "code",
      "source": "X4 = a.loc[:,feature_list]\nX4 = 2,15,576\n# Setting the target for our flight index 3221210\n#y4 =12\n#print(y4)\nX4\n",
      "execution_count": 81,
      "outputs": [
        {
          "output_type": "execute_result",
          "execution_count": 81,
          "data": {
            "text/plain": "(2, 15, 576)"
          },
          "metadata": {}
        }
      ]
    },
    {
      "metadata": {
        "trusted": true
      },
      "cell_type": "code",
      "source": "X4 = a.loc[:,feature_list]\nX4 = X4.iloc[1]\nX4",
      "execution_count": 82,
      "outputs": [
        {
          "output_type": "execute_result",
          "execution_count": 82,
          "data": {
            "text/plain": "DAY_OF_MONTH            7\nOP_UNIQUE_CARRIER      13\nOP_CARRIER_FL_NUM    3451\nName: 4801, dtype: int64"
          },
          "metadata": {}
        }
      ]
    },
    {
      "metadata": {
        "trusted": true
      },
      "cell_type": "code",
      "source": "a.loc[6271]",
      "execution_count": 83,
      "outputs": [
        {
          "output_type": "error",
          "ename": "KeyError",
          "evalue": "'the label [6271] is not in the [index]'",
          "traceback": [
            "\u001b[0;31m---------------------------------------------------------------------------\u001b[0m",
            "\u001b[0;31mKeyError\u001b[0m                                  Traceback (most recent call last)",
            "\u001b[0;32m~/anaconda3_501/lib/python3.6/site-packages/pandas/core/indexing.py\u001b[0m in \u001b[0;36m_validate_key\u001b[0;34m(self, key, axis)\u001b[0m\n\u001b[1;32m   1789\u001b[0m                 \u001b[0;32mif\u001b[0m \u001b[0;32mnot\u001b[0m \u001b[0max\u001b[0m\u001b[0;34m.\u001b[0m\u001b[0mcontains\u001b[0m\u001b[0;34m(\u001b[0m\u001b[0mkey\u001b[0m\u001b[0;34m)\u001b[0m\u001b[0;34m:\u001b[0m\u001b[0;34m\u001b[0m\u001b[0m\n\u001b[0;32m-> 1790\u001b[0;31m                     \u001b[0merror\u001b[0m\u001b[0;34m(\u001b[0m\u001b[0;34m)\u001b[0m\u001b[0;34m\u001b[0m\u001b[0m\n\u001b[0m\u001b[1;32m   1791\u001b[0m             \u001b[0;32mexcept\u001b[0m \u001b[0mTypeError\u001b[0m \u001b[0;32mas\u001b[0m \u001b[0me\u001b[0m\u001b[0;34m:\u001b[0m\u001b[0;34m\u001b[0m\u001b[0m\n",
            "\u001b[0;32m~/anaconda3_501/lib/python3.6/site-packages/pandas/core/indexing.py\u001b[0m in \u001b[0;36merror\u001b[0;34m()\u001b[0m\n\u001b[1;32m   1784\u001b[0m                                .format(key=key,\n\u001b[0;32m-> 1785\u001b[0;31m                                        axis=self.obj._get_axis_name(axis)))\n\u001b[0m\u001b[1;32m   1786\u001b[0m \u001b[0;34m\u001b[0m\u001b[0m\n",
            "\u001b[0;31mKeyError\u001b[0m: 'the label [6271] is not in the [index]'",
            "\nDuring handling of the above exception, another exception occurred:\n",
            "\u001b[0;31mKeyError\u001b[0m                                  Traceback (most recent call last)",
            "\u001b[0;32m<ipython-input-83-118c883b1108>\u001b[0m in \u001b[0;36m<module>\u001b[0;34m\u001b[0m\n\u001b[0;32m----> 1\u001b[0;31m \u001b[0ma\u001b[0m\u001b[0;34m.\u001b[0m\u001b[0mloc\u001b[0m\u001b[0;34m[\u001b[0m\u001b[0;36m6271\u001b[0m\u001b[0;34m]\u001b[0m\u001b[0;34m\u001b[0m\u001b[0m\n\u001b[0m",
            "\u001b[0;32m~/anaconda3_501/lib/python3.6/site-packages/pandas/core/indexing.py\u001b[0m in \u001b[0;36m__getitem__\u001b[0;34m(self, key)\u001b[0m\n\u001b[1;32m   1476\u001b[0m \u001b[0;34m\u001b[0m\u001b[0m\n\u001b[1;32m   1477\u001b[0m             \u001b[0mmaybe_callable\u001b[0m \u001b[0;34m=\u001b[0m \u001b[0mcom\u001b[0m\u001b[0;34m.\u001b[0m\u001b[0m_apply_if_callable\u001b[0m\u001b[0;34m(\u001b[0m\u001b[0mkey\u001b[0m\u001b[0;34m,\u001b[0m \u001b[0mself\u001b[0m\u001b[0;34m.\u001b[0m\u001b[0mobj\u001b[0m\u001b[0;34m)\u001b[0m\u001b[0;34m\u001b[0m\u001b[0m\n\u001b[0;32m-> 1478\u001b[0;31m             \u001b[0;32mreturn\u001b[0m \u001b[0mself\u001b[0m\u001b[0;34m.\u001b[0m\u001b[0m_getitem_axis\u001b[0m\u001b[0;34m(\u001b[0m\u001b[0mmaybe_callable\u001b[0m\u001b[0;34m,\u001b[0m \u001b[0maxis\u001b[0m\u001b[0;34m=\u001b[0m\u001b[0maxis\u001b[0m\u001b[0;34m)\u001b[0m\u001b[0;34m\u001b[0m\u001b[0m\n\u001b[0m\u001b[1;32m   1479\u001b[0m \u001b[0;34m\u001b[0m\u001b[0m\n\u001b[1;32m   1480\u001b[0m     \u001b[0;32mdef\u001b[0m \u001b[0m_is_scalar_access\u001b[0m\u001b[0;34m(\u001b[0m\u001b[0mself\u001b[0m\u001b[0;34m,\u001b[0m \u001b[0mkey\u001b[0m\u001b[0;34m)\u001b[0m\u001b[0;34m:\u001b[0m\u001b[0;34m\u001b[0m\u001b[0m\n",
            "\u001b[0;32m~/anaconda3_501/lib/python3.6/site-packages/pandas/core/indexing.py\u001b[0m in \u001b[0;36m_getitem_axis\u001b[0;34m(self, key, axis)\u001b[0m\n\u001b[1;32m   1909\u001b[0m \u001b[0;34m\u001b[0m\u001b[0m\n\u001b[1;32m   1910\u001b[0m         \u001b[0;31m# fall thru to straight lookup\u001b[0m\u001b[0;34m\u001b[0m\u001b[0;34m\u001b[0m\u001b[0m\n\u001b[0;32m-> 1911\u001b[0;31m         \u001b[0mself\u001b[0m\u001b[0;34m.\u001b[0m\u001b[0m_validate_key\u001b[0m\u001b[0;34m(\u001b[0m\u001b[0mkey\u001b[0m\u001b[0;34m,\u001b[0m \u001b[0maxis\u001b[0m\u001b[0;34m)\u001b[0m\u001b[0;34m\u001b[0m\u001b[0m\n\u001b[0m\u001b[1;32m   1912\u001b[0m         \u001b[0;32mreturn\u001b[0m \u001b[0mself\u001b[0m\u001b[0;34m.\u001b[0m\u001b[0m_get_label\u001b[0m\u001b[0;34m(\u001b[0m\u001b[0mkey\u001b[0m\u001b[0;34m,\u001b[0m \u001b[0maxis\u001b[0m\u001b[0;34m=\u001b[0m\u001b[0maxis\u001b[0m\u001b[0;34m)\u001b[0m\u001b[0;34m\u001b[0m\u001b[0m\n\u001b[1;32m   1913\u001b[0m \u001b[0;34m\u001b[0m\u001b[0m\n",
            "\u001b[0;32m~/anaconda3_501/lib/python3.6/site-packages/pandas/core/indexing.py\u001b[0m in \u001b[0;36m_validate_key\u001b[0;34m(self, key, axis)\u001b[0m\n\u001b[1;32m   1796\u001b[0m                 \u001b[0;32mraise\u001b[0m\u001b[0;34m\u001b[0m\u001b[0m\n\u001b[1;32m   1797\u001b[0m             \u001b[0;32mexcept\u001b[0m\u001b[0;34m:\u001b[0m\u001b[0;34m\u001b[0m\u001b[0m\n\u001b[0;32m-> 1798\u001b[0;31m                 \u001b[0merror\u001b[0m\u001b[0;34m(\u001b[0m\u001b[0;34m)\u001b[0m\u001b[0;34m\u001b[0m\u001b[0m\n\u001b[0m\u001b[1;32m   1799\u001b[0m \u001b[0;34m\u001b[0m\u001b[0m\n\u001b[1;32m   1800\u001b[0m     \u001b[0;32mdef\u001b[0m \u001b[0m_is_scalar_access\u001b[0m\u001b[0;34m(\u001b[0m\u001b[0mself\u001b[0m\u001b[0;34m,\u001b[0m \u001b[0mkey\u001b[0m\u001b[0;34m)\u001b[0m\u001b[0;34m:\u001b[0m\u001b[0;34m\u001b[0m\u001b[0m\n",
            "\u001b[0;32m~/anaconda3_501/lib/python3.6/site-packages/pandas/core/indexing.py\u001b[0m in \u001b[0;36merror\u001b[0;34m()\u001b[0m\n\u001b[1;32m   1783\u001b[0m                 raise KeyError(u\"the label [{key}] is not in the [{axis}]\"\n\u001b[1;32m   1784\u001b[0m                                .format(key=key,\n\u001b[0;32m-> 1785\u001b[0;31m                                        axis=self.obj._get_axis_name(axis)))\n\u001b[0m\u001b[1;32m   1786\u001b[0m \u001b[0;34m\u001b[0m\u001b[0m\n\u001b[1;32m   1787\u001b[0m             \u001b[0;32mtry\u001b[0m\u001b[0;34m:\u001b[0m\u001b[0;34m\u001b[0m\u001b[0m\n",
            "\u001b[0;31mKeyError\u001b[0m: 'the label [6271] is not in the [index]'"
          ]
        }
      ]
    },
    {
      "metadata": {
        "trusted": true
      },
      "cell_type": "code",
      "source": "#Enter own values of possible flight\n\nflightNum = 324\ndayOfMonth = 1\ncarrier = 9\n  \nX4 = [dayOfMonth, carrier, flightNum]\n\nflight_pred_s = tree_model.predict([X4])\nprint(\"Predicted Delay of the Flight (Minutes): \", flight_pred_s)\n\n",
      "execution_count": null,
      "outputs": []
    },
    {
      "metadata": {
        "trusted": true
      },
      "cell_type": "code",
      "source": "",
      "execution_count": null,
      "outputs": []
    },
    {
      "metadata": {
        "trusted": true
      },
      "cell_type": "code",
      "source": "from sklearn.preprocessing import OneHotEncoder\n\nencoder = OneHotEncoder()\n\nencoder.fit(['OP_UNIQUE_CARRIER']);\n",
      "execution_count": null,
      "outputs": []
    },
    {
      "metadata": {
        "trusted": true
      },
      "cell_type": "code",
      "source": "newData=pd.read_csv('2017Data.csv')",
      "execution_count": null,
      "outputs": []
    },
    {
      "metadata": {
        "trusted": true
      },
      "cell_type": "code",
      "source": "count = 0\nfor x in range(10000):\n    newData.iloc[x]\n    X = newData.loc[:,feature_list]\n    X = X.iloc[x]\n    y =newData.iloc[x]['DEP_DELAY']\n    flight_pred_s = tree_model.predict([X])\n    count += y-flight_pred_s",
      "execution_count": null,
      "outputs": []
    },
    {
      "metadata": {
        "trusted": true
      },
      "cell_type": "code",
      "source": "newData.isnull().values.any()",
      "execution_count": null,
      "outputs": []
    },
    {
      "metadata": {
        "trusted": true
      },
      "cell_type": "code",
      "source": "",
      "execution_count": null,
      "outputs": []
    },
    {
      "metadata": {
        "trusted": true
      },
      "cell_type": "code",
      "source": "",
      "execution_count": null,
      "outputs": []
    }
  ],
  "metadata": {
    "kernelspec": {
      "name": "python36",
      "display_name": "Python 3.6",
      "language": "python"
    },
    "language_info": {
      "mimetype": "text/x-python",
      "nbconvert_exporter": "python",
      "name": "python",
      "pygments_lexer": "ipython3",
      "version": "3.6.6",
      "file_extension": ".py",
      "codemirror_mode": {
        "version": 3,
        "name": "ipython"
      }
    }
  },
  "nbformat": 4,
  "nbformat_minor": 2
}